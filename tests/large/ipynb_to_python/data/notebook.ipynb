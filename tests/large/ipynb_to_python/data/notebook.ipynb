{
 "cells": [
  {
   "cell_type": "markdown",
   "metadata": {},
   "source": [
    "# Dummy pipeline - test step"
   ]
  },
  {
   "cell_type": "markdown",
   "metadata": {},
   "source": [
    "This step splits data input file in 2 files. One with octal values the other with binaries values."
   ]
  },
  {
   "cell_type": "code",
   "execution_count": null,
   "metadata": {},
   "outputs": [],
   "source": [
    "# Parameters\n",
    "\"\"\"\n",
    ":param str sanitized_data: path to input sanitized data\n",
    ":param str octal_data: path to octal data output file\n",
    ":param str binary_data: path to binary data output file\n",
    ":param int size_bin_data: number of bits in a binary value\n",
    ":dvc-in sanitized_data: ./dummy/data/sanitized_data.txt\n",
    ":dvc-out octal_data: ./dummy/data/octal_data.txt\n",
    ":dvc-out-persist binary_data: ./dummy/data/binary_data.txt\n",
    ":dvc-extra: --size-bin-data 8\n",
    "\"\"\"\n",
    "# Value of parameters for this Jupyter Notebook only\n",
    "# the notebook is in ./dummy/pipeline/notebooks\n",
    "sanitized_data = '../../data/sanitized_data.txt'\n",
    "octal_data = '../../data/octal_data.txt'\n",
    "binary_data = '../../data/binary_data.txt'\n",
    "size_bin_data = 8"
   ]
  },
  {
   "cell_type": "markdown",
   "metadata": {},
   "source": [
    "> In this case we use **dvc-extra** to provide a parameter which neither an input nor an output (--size-bin-data). "
   ]
  },
  {
   "cell_type": "code",
   "execution_count": null,
   "metadata": {},
   "outputs": [],
   "source": [
    "with open(sanitized_data, 'r') as fd:\n",
    "    data = fd.read()"
   ]
  },
  {
   "cell_type": "code",
   "execution_count": null,
   "metadata": {},
   "outputs": [],
   "source": [
    "binaries = [d for d in data.split() if len(d.split('=')[1]) >= size_bin_data]"
   ]
  },
  {
   "cell_type": "code",
   "execution_count": null,
   "metadata": {},
   "outputs": [],
   "source": [
    "octals = [d for d in data.split() if len(d.split('=')[1]) == 3]"
   ]
  },
  {
   "cell_type": "code",
   "execution_count": null,
   "metadata": {},
   "outputs": [],
   "source": [
    "with open(octal_data, 'w') as fd:\n",
    "    fd.write(' '.join(octals))"
   ]
  },
  {
   "cell_type": "code",
   "execution_count": null,
   "metadata": {},
   "outputs": [],
   "source": [
    "with open(binary_data, 'w') as fd:\n",
    "    fd.write(' '.join(binaries))"
   ]
  },
  {
   "cell_type": "code",
   "execution_count": null,
   "metadata": {},
   "outputs": [],
   "source": [
    "# No effect\n",
    "print(binaries)\n",
    "print(octals)"
   ]
  }
 ],
 "metadata": {
  "kernelspec": {
   "display_name": "Python 3",
   "language": "python",
   "name": "python3"
  },
  "language_info": {
   "codemirror_mode": {
    "name": "ipython",
    "version": 3
   },
   "file_extension": ".py",
   "mimetype": "text/x-python",
   "name": "python",
   "nbconvert_exporter": "python",
   "pygments_lexer": "ipython3",
   "version": "3.6.5"
  }
 },
 "nbformat": 4,
 "nbformat_minor": 2
}
